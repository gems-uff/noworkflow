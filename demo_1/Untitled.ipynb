{
 "cells": [
  {
   "cell_type": "code",
   "execution_count": 1,
   "id": "16499732",
   "metadata": {},
   "outputs": [],
   "source": [
    "a = 1\n",
    "b = 2\n"
   ]
  },
  {
   "cell_type": "code",
   "execution_count": 2,
   "id": "a3034d05",
   "metadata": {},
   "outputs": [
    {
     "name": "stdout",
     "output_type": "stream",
     "text": [
      "hello word\n"
     ]
    }
   ],
   "source": [
    "print('hello word')"
   ]
  },
  {
   "cell_type": "code",
   "execution_count": 4,
   "id": "9da55a8f",
   "metadata": {},
   "outputs": [
    {
     "data": {
      "text/plain": [
       "True"
      ]
     },
     "execution_count": 4,
     "metadata": {},
     "output_type": "execute_result"
    }
   ],
   "source": [
    "a == 1"
   ]
  },
  {
   "cell_type": "code",
   "execution_count": 6,
   "id": "69e30dd6",
   "metadata": {},
   "outputs": [],
   "source": [
    "def a(b):\n",
    "    return 3*b"
   ]
  },
  {
   "cell_type": "code",
   "execution_count": 7,
   "id": "5b00cf7a",
   "metadata": {},
   "outputs": [
    {
     "data": {
      "text/plain": [
       "9"
      ]
     },
     "execution_count": 7,
     "metadata": {},
     "output_type": "execute_result"
    }
   ],
   "source": [
    "a(3)"
   ]
  },
  {
   "cell_type": "code",
   "execution_count": 8,
   "id": "d87b0435",
   "metadata": {},
   "outputs": [
    {
     "data": {
      "text/plain": [
       "36"
      ]
     },
     "execution_count": 8,
     "metadata": {},
     "output_type": "execute_result"
    }
   ],
   "source": [
    "a(12)"
   ]
  },
  {
   "cell_type": "code",
   "execution_count": 9,
   "id": "37325b31",
   "metadata": {},
   "outputs": [
    {
     "data": {
      "text/plain": [
       "30"
      ]
     },
     "execution_count": 9,
     "metadata": {},
     "output_type": "execute_result"
    }
   ],
   "source": [
    "a(5)\n",
    "a(10)"
   ]
  },
  {
   "cell_type": "code",
   "execution_count": 10,
   "id": "039dbfd1",
   "metadata": {},
   "outputs": [
    {
     "data": {
      "text/plain": [
       "<noworkflow.now.collection.prov_execution.collector.Collector at 0x7f94e8542610>"
      ]
     },
     "execution_count": 10,
     "metadata": {},
     "output_type": "execute_result"
    }
   ],
   "source": [
    "__noworkflow__"
   ]
  },
  {
   "cell_type": "code",
   "execution_count": 11,
   "id": "c3170ab0",
   "metadata": {},
   "outputs": [
    {
     "data": {
      "text/plain": [
       "'f8a8b6b8-50ab-4e68-9d00-9c0f4d04502d'"
      ]
     },
     "execution_count": 11,
     "metadata": {},
     "output_type": "execute_result"
    }
   ],
   "source": [
    "__noworkflow__.trial_id"
   ]
  },
  {
   "cell_type": "code",
   "execution_count": 12,
   "id": "11bb589d",
   "metadata": {},
   "outputs": [
    {
     "data": {
      "text/plain": [
       "Activation(id=66, name=<ipython-input-12-f73563b7e0ab>, start_checkpoint=377.836701782, code_block_id=97)"
      ]
     },
     "execution_count": 12,
     "metadata": {},
     "output_type": "execute_result"
    }
   ],
   "source": [
    "__noworkflow__.last_activation"
   ]
  },
  {
   "cell_type": "code",
   "execution_count": 1,
   "id": "eb5f2178",
   "metadata": {},
   "outputs": [
    {
     "name": "stdout",
     "output_type": "stream",
     "text": [
      "2\n"
     ]
    }
   ],
   "source": [
    "now_tag('teste')"
   ]
  },
  {
   "cell_type": "code",
   "execution_count": 7,
   "id": "da013f35",
   "metadata": {},
   "outputs": [
    {
     "data": {
      "text/plain": [
       "1"
      ]
     },
     "execution_count": 7,
     "metadata": {},
     "output_type": "execute_result"
    }
   ],
   "source": [
    "__noworkflow__.last_activation.evaluation.activation_id"
   ]
  }
 ],
 "metadata": {
  "kernelspec": {
   "display_name": "noWorkflow 3",
   "language": "python",
   "name": "noworkflow3"
  },
  "language_info": {
   "codemirror_mode": {
    "name": "ipython",
    "version": 3
   },
   "file_extension": ".py",
   "mimetype": "text/x-python",
   "name": "python",
   "nbconvert_exporter": "python",
   "pygments_lexer": "ipython3",
   "version": "3.7.16"
  }
 },
 "nbformat": 4,
 "nbformat_minor": 5
}
