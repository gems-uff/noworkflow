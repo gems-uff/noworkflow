{
 "cells": [
  {
   "cell_type": "code",
   "execution_count": 5,
   "metadata": {},
   "outputs": [],
   "source": [
    "from noworkflow.tests.helpers.models import TrialConfig, new_trial\n",
    "from noworkflow.tests.helpers.models import count\n",
    "TrialConfig.erase()\n",
    "\n",
    "trial_id = new_trial(TrialConfig(script=\"main.py\"))"
   ]
  },
  {
   "cell_type": "code",
   "execution_count": 6,
   "metadata": {},
   "outputs": [],
   "source": [
    "from noworkflow.tests.helpers.models import StageTag\n",
    "import datetime as dt\n",
    "\n",
    "#cell_test = CellTagsLW(999, trial_id, 'teste', \"AUTO\")\n",
    "trial_id = new_trial(TrialConfig(script=\"main.py\"))\n",
    "_ = StageTag.create(trial_id, \"AUTO\", \"1.1.1\", dt.datetime.now())\n"
   ]
  },
  {
   "cell_type": "code",
   "execution_count": 8,
   "metadata": {},
   "outputs": [
    {
     "data": {
      "text/plain": [
       "'1e620c15-35dd-42b4-a18b-26c994fa6645'"
      ]
     },
     "execution_count": 8,
     "metadata": {},
     "output_type": "execute_result"
    }
   ],
   "source": [
    "from noworkflow.now.persistence.models.stage_tag import StageTag\n",
    "\n",
    "\n",
    "trial_id"
   ]
  }
 ],
 "metadata": {
  "kernelspec": {
   "display_name": "noworkflow",
   "language": "python",
   "name": "python3"
  },
  "language_info": {
   "codemirror_mode": {
    "name": "ipython",
    "version": 3
   },
   "file_extension": ".py",
   "mimetype": "text/x-python",
   "name": "python",
   "nbconvert_exporter": "python",
   "pygments_lexer": "ipython3",
   "version": "3.7.16 (default, Jan 17 2023, 09:28:58) \n[Clang 14.0.6 ]"
  },
  "orig_nbformat": 4,
  "vscode": {
   "interpreter": {
    "hash": "fd46906d0be51105938edee03e9704979453c4958d5b4d09c310e6ecda521c36"
   }
  }
 },
 "nbformat": 4,
 "nbformat_minor": 2
}
